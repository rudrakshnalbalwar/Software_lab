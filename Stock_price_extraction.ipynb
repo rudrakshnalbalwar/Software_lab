{
 "cells": [
  {
   "cell_type": "code",
   "execution_count": 15,
   "id": "e3c32210-4f83-4d23-8cd9-1d64151e8e07",
   "metadata": {},
   "outputs": [
    {
     "name": "stdout",
     "output_type": "stream",
     "text": [
      "Requirement already satisfied: requests in /home/codespace/.local/lib/python3.10/site-packages (2.31.0)\n",
      "Requirement already satisfied: charset-normalizer<4,>=2 in /home/codespace/.local/lib/python3.10/site-packages (from requests) (3.3.2)\n",
      "Requirement already satisfied: idna<4,>=2.5 in /home/codespace/.local/lib/python3.10/site-packages (from requests) (3.6)\n",
      "Requirement already satisfied: urllib3<3,>=1.21.1 in /usr/local/python/3.10.13/lib/python3.10/site-packages (from requests) (2.0.7)\n",
      "Requirement already satisfied: certifi>=2017.4.17 in /home/codespace/.local/lib/python3.10/site-packages (from requests) (2023.11.17)\n",
      "Note: you may need to restart the kernel to use updated packages.\n"
     ]
    }
   ],
   "source": [
    "pip install requests"
   ]
  },
  {
   "cell_type": "code",
   "execution_count": 18,
   "id": "b8ff0bba-39e4-420c-af6a-c3b1833cbe6b",
   "metadata": {},
   "outputs": [
    {
     "name": "stdout",
     "output_type": "stream",
     "text": [
      "COIN: 185.7000\n"
     ]
    }
   ],
   "source": [
    "\n",
    "import requests\n",
    "import json\n",
    "# Function to get live stock data for a symbol\n",
    "def get_stock_data():\n",
    "    url = f\"https://www.alphavantage.co/query?function=TIME_SERIES_INTRADAY&symbol=IBM&interval=5min&outputsize=full&apikey=demo\"\n",
    "    response = requests.get(url)\n",
    "     \n",
    "    # Check if the response is successful\n",
    "    if response.status_code == 200:\n",
    "        data = response.json()\n",
    "        last_refreshed = data[\"Meta Data\"][\"3. Last Refreshed\"]\n",
    "        price = data[\"Time Series (5min)\"][last_refreshed][\"1. open\"]\n",
    "        return price\n",
    "    else:\n",
    "        return None\n",
    " \n",
    "stock_prices = {}\n",
    "price = get_stock_data()\n",
    "symbol= input(\"enter any symbol\")\n",
    "\n",
    "if price is not None:\n",
    "    stock_prices[symbol] = price\n",
    " \n",
    "print(f\"{symbol}: {price}\")"
   ]
  },
  {
   "cell_type": "code",
   "execution_count": null,
   "id": "cf1cb29d-f058-4642-acbf-7b2175454996",
   "metadata": {},
   "outputs": [],
   "source": []
  },
  {
   "cell_type": "code",
   "execution_count": null,
   "id": "99e05257-a348-4b31-953b-4ea5d6a6f4b1",
   "metadata": {},
   "outputs": [],
   "source": []
  }
 ],
 "metadata": {
  "kernelspec": {
   "display_name": "Python 3 (ipykernel)",
   "language": "python",
   "name": "python3"
  },
  "language_info": {
   "codemirror_mode": {
    "name": "ipython",
    "version": 3
   },
   "file_extension": ".py",
   "mimetype": "text/x-python",
   "name": "python",
   "nbconvert_exporter": "python",
   "pygments_lexer": "ipython3",
   "version": "3.10.13"
  }
 },
 "nbformat": 4,
 "nbformat_minor": 5
}
